{
 "cells": [
  {
   "cell_type": "code",
   "execution_count": 259,
   "metadata": {},
   "outputs": [],
   "source": [
    "import pandas as pd"
   ]
  },
  {
   "cell_type": "code",
   "execution_count": 260,
   "metadata": {},
   "outputs": [],
   "source": [
    "monthly = pd.read_csv('monthly_sales.csv')"
   ]
  },
  {
   "cell_type": "code",
   "execution_count": 269,
   "metadata": {},
   "outputs": [],
   "source": [
    "hamburger = [i for i in monthly.columns if 'HM' in i]\n",
    "hamburger = monthly[hamburger+['Month, Year']]\n",
    "hamburger = hamburger.iloc[31:36]"
   ]
  },
  {
   "cell_type": "code",
   "execution_count": 270,
   "metadata": {},
   "outputs": [],
   "source": [
    "hamburger.index = hamburger['Month, Year']\n",
    "hamburger = hamburger.drop(columns='Month, Year')"
   ]
  },
  {
   "cell_type": "code",
   "execution_count": 281,
   "metadata": {},
   "outputs": [
    {
     "data": {
      "text/html": [
       "<div>\n",
       "<style scoped>\n",
       "    .dataframe tbody tr th:only-of-type {\n",
       "        vertical-align: middle;\n",
       "    }\n",
       "\n",
       "    .dataframe tbody tr th {\n",
       "        vertical-align: top;\n",
       "    }\n",
       "\n",
       "    .dataframe thead th {\n",
       "        text-align: right;\n",
       "    }\n",
       "</style>\n",
       "<table border=\"1\" class=\"dataframe\">\n",
       "  <thead>\n",
       "    <tr style=\"text-align: right;\">\n",
       "      <th></th>\n",
       "      <th>HM-NE</th>\n",
       "      <th>HM-SW</th>\n",
       "      <th>HM-NW</th>\n",
       "      <th>HM-SE</th>\n",
       "      <th>HM-C</th>\n",
       "    </tr>\n",
       "    <tr>\n",
       "      <th>Month, Year</th>\n",
       "      <th></th>\n",
       "      <th></th>\n",
       "      <th></th>\n",
       "      <th></th>\n",
       "      <th></th>\n",
       "    </tr>\n",
       "  </thead>\n",
       "  <tbody>\n",
       "    <tr>\n",
       "      <th>Aug-18</th>\n",
       "      <td>1654831</td>\n",
       "      <td>1625106</td>\n",
       "      <td>1662321</td>\n",
       "      <td>1574144</td>\n",
       "      <td>1543848</td>\n",
       "    </tr>\n",
       "    <tr>\n",
       "      <th>Sep-18</th>\n",
       "      <td>1606160</td>\n",
       "      <td>1642152</td>\n",
       "      <td>1618403</td>\n",
       "      <td>1536130</td>\n",
       "      <td>1520076</td>\n",
       "    </tr>\n",
       "    <tr>\n",
       "      <th>Oct-18</th>\n",
       "      <td>1380063</td>\n",
       "      <td>1351220</td>\n",
       "      <td>1351293</td>\n",
       "      <td>1334204</td>\n",
       "      <td>1364454</td>\n",
       "    </tr>\n",
       "    <tr>\n",
       "      <th>Nov-18</th>\n",
       "      <td>1551486</td>\n",
       "      <td>1524624</td>\n",
       "      <td>1440957</td>\n",
       "      <td>1417422</td>\n",
       "      <td>1451913</td>\n",
       "    </tr>\n",
       "    <tr>\n",
       "      <th>Dec-18</th>\n",
       "      <td>1446801</td>\n",
       "      <td>1419772</td>\n",
       "      <td>1343743</td>\n",
       "      <td>1383670</td>\n",
       "      <td>1360520</td>\n",
       "    </tr>\n",
       "  </tbody>\n",
       "</table>\n",
       "</div>"
      ],
      "text/plain": [
       "               HM-NE    HM-SW    HM-NW    HM-SE     HM-C\n",
       "Month, Year                                             \n",
       "Aug-18       1654831  1625106  1662321  1574144  1543848\n",
       "Sep-18       1606160  1642152  1618403  1536130  1520076\n",
       "Oct-18       1380063  1351220  1351293  1334204  1364454\n",
       "Nov-18       1551486  1524624  1440957  1417422  1451913\n",
       "Dec-18       1446801  1419772  1343743  1383670  1360520"
      ]
     },
     "execution_count": 281,
     "metadata": {},
     "output_type": "execute_result"
    }
   ],
   "source": [
    "hamburger"
   ]
  },
  {
   "cell_type": "code",
   "execution_count": 212,
   "metadata": {},
   "outputs": [],
   "source": [
    "location = monthly.drop(columns='Month, Year')\n",
    "location = location.sum().to_frame().reset_index().rename(columns={0:'USD','index':'location'})"
   ]
  },
  {
   "cell_type": "code",
   "execution_count": 213,
   "metadata": {},
   "outputs": [],
   "source": [
    "location['Food']=location['location'].apply(lambda x: x.split('-')[0])\n",
    "location['Location']=location['location'].apply(lambda x: x.split('-')[1])"
   ]
  },
  {
   "cell_type": "code",
   "execution_count": 214,
   "metadata": {},
   "outputs": [],
   "source": [
    "location = location.drop(columns='location')"
   ]
  },
  {
   "cell_type": "code",
   "execution_count": 215,
   "metadata": {},
   "outputs": [],
   "source": [
    "location = location.pivot_table('USD','Location','Food')"
   ]
  },
  {
   "cell_type": "code",
   "execution_count": 216,
   "metadata": {},
   "outputs": [
    {
     "data": {
      "text/html": [
       "<div>\n",
       "<style scoped>\n",
       "    .dataframe tbody tr th:only-of-type {\n",
       "        vertical-align: middle;\n",
       "    }\n",
       "\n",
       "    .dataframe tbody tr th {\n",
       "        vertical-align: top;\n",
       "    }\n",
       "\n",
       "    .dataframe thead th {\n",
       "        text-align: right;\n",
       "    }\n",
       "</style>\n",
       "<table border=\"1\" class=\"dataframe\">\n",
       "  <thead>\n",
       "    <tr style=\"text-align: right;\">\n",
       "      <th>Food</th>\n",
       "      <th>CF</th>\n",
       "      <th>FF</th>\n",
       "      <th>HM</th>\n",
       "    </tr>\n",
       "    <tr>\n",
       "      <th>Location</th>\n",
       "      <th></th>\n",
       "      <th></th>\n",
       "      <th></th>\n",
       "    </tr>\n",
       "  </thead>\n",
       "  <tbody>\n",
       "    <tr>\n",
       "      <th>C</th>\n",
       "      <td>25724566</td>\n",
       "      <td>15540968</td>\n",
       "      <td>61582375</td>\n",
       "    </tr>\n",
       "    <tr>\n",
       "      <th>NE</th>\n",
       "      <td>27233220</td>\n",
       "      <td>16345942</td>\n",
       "      <td>65362334</td>\n",
       "    </tr>\n",
       "    <tr>\n",
       "      <th>NW</th>\n",
       "      <td>26341429</td>\n",
       "      <td>15821178</td>\n",
       "      <td>63572000</td>\n",
       "    </tr>\n",
       "    <tr>\n",
       "      <th>SE</th>\n",
       "      <td>26039450</td>\n",
       "      <td>15614539</td>\n",
       "      <td>62328614</td>\n",
       "    </tr>\n",
       "    <tr>\n",
       "      <th>SW</th>\n",
       "      <td>26815953</td>\n",
       "      <td>16104137</td>\n",
       "      <td>64421707</td>\n",
       "    </tr>\n",
       "  </tbody>\n",
       "</table>\n",
       "</div>"
      ],
      "text/plain": [
       "Food            CF        FF        HM\n",
       "Location                              \n",
       "C         25724566  15540968  61582375\n",
       "NE        27233220  16345942  65362334\n",
       "NW        26341429  15821178  63572000\n",
       "SE        26039450  15614539  62328614\n",
       "SW        26815953  16104137  64421707"
      ]
     },
     "execution_count": 216,
     "metadata": {},
     "output_type": "execute_result"
    }
   ],
   "source": [
    "location"
   ]
  },
  {
   "cell_type": "code",
   "execution_count": 217,
   "metadata": {},
   "outputs": [],
   "source": [
    "HM = monthly[[i for i in monthly.columns if 'HM' in i]].sum(axis=1)\n",
    "CF = monthly[[i for i in monthly.columns if 'CF' in i]].sum(axis=1)\n",
    "FF = monthly[[i for i in monthly.columns if 'FF' in i]].sum(axis=1)"
   ]
  },
  {
   "cell_type": "code",
   "execution_count": 218,
   "metadata": {},
   "outputs": [],
   "source": [
    "food_date = pd.DataFrame({'HM':HM,'CF':CF,'FF':FF})\n",
    "food_date.index = monthly['Month, Year']"
   ]
  },
  {
   "cell_type": "code",
   "execution_count": 219,
   "metadata": {},
   "outputs": [],
   "source": [
    "NE = monthly[[i for i in monthly.columns if 'NE' in i]].sum(axis=1)\n",
    "SW = monthly[[i for i in monthly.columns if 'SW' in i]].sum(axis=1)\n",
    "NW = monthly[[i for i in monthly.columns if 'NW' in i]].sum(axis=1)\n",
    "SE = monthly[[i for i in monthly.columns if 'SE' in i]].sum(axis=1)\n",
    "C = monthly[[i for i in monthly.columns if '-C' in i]].sum(axis=1)"
   ]
  },
  {
   "cell_type": "code",
   "execution_count": 220,
   "metadata": {},
   "outputs": [],
   "source": [
    "region_date = pd.DataFrame({'NE':NE,'SW':SW,'NW':NW,'SE':SE,'C':C})\n",
    "region_date.index=monthly['Month, Year']"
   ]
  },
  {
   "cell_type": "code",
   "execution_count": 221,
   "metadata": {},
   "outputs": [],
   "source": [
    "daily = pd.read_csv('daily_sales.csv').drop(columns='Day')\n",
    "daily = daily.rename(columns={'Unnamed: 0':'Day'})"
   ]
  },
  {
   "cell_type": "code",
   "execution_count": 222,
   "metadata": {},
   "outputs": [],
   "source": [
    "week = daily.groupby('Day').mean()"
   ]
  },
  {
   "cell_type": "code",
   "execution_count": 223,
   "metadata": {},
   "outputs": [],
   "source": [
    "NE_week = week[[i for i in week.columns if 'NE' in i]].sum(axis=1)\n",
    "SW_week = week[[i for i in week.columns if 'SW' in i]].sum(axis=1)\n",
    "NW_week = week[[i for i in week.columns if 'NW' in i]].sum(axis=1)\n",
    "SE_week = week[[i for i in week.columns if 'SE' in i]].sum(axis=1)\n",
    "C_week = week[[i for i in week.columns if '-C' in i]].sum(axis=1)"
   ]
  },
  {
   "cell_type": "code",
   "execution_count": 224,
   "metadata": {},
   "outputs": [],
   "source": [
    "region_week = pd.DataFrame({'NE':NE_week,'SW':SW_week,'NW':NW_week,'SE':SE_week,'C':C_week})\n",
    "region_week.index=week.index"
   ]
  },
  {
   "cell_type": "code",
   "execution_count": 225,
   "metadata": {},
   "outputs": [],
   "source": [
    "region_week['Day_index'] = pd.Series([5, 1, 6, 0,4,2,3],index=region_week.index)\n",
    "region_week = region_week.sort_values(by='Day_index')"
   ]
  },
  {
   "cell_type": "code",
   "execution_count": 249,
   "metadata": {},
   "outputs": [
    {
     "data": {
      "text/plain": [
       "Day\n",
       "Sunday       296574.40\n",
       "Monday       303164.75\n",
       "Tuesday      300025.25\n",
       "Wednesday    303962.50\n",
       "Thursday     303733.75\n",
       "Friday       310592.00\n",
       "Saturday     294339.40\n",
       "dtype: float64"
      ]
     },
     "execution_count": 249,
     "metadata": {},
     "output_type": "execute_result"
    }
   ],
   "source": [
    "region_week.sum(axis=1)"
   ]
  },
  {
   "cell_type": "code",
   "execution_count": null,
   "metadata": {},
   "outputs": [],
   "source": []
  },
  {
   "cell_type": "code",
   "execution_count": null,
   "metadata": {},
   "outputs": [],
   "source": []
  }
 ],
 "metadata": {
  "kernelspec": {
   "display_name": "Python 3",
   "language": "python",
   "name": "python3"
  },
  "language_info": {
   "codemirror_mode": {
    "name": "ipython",
    "version": 3
   },
   "file_extension": ".py",
   "mimetype": "text/x-python",
   "name": "python",
   "nbconvert_exporter": "python",
   "pygments_lexer": "ipython3",
   "version": "3.7.3"
  }
 },
 "nbformat": 4,
 "nbformat_minor": 2
}
